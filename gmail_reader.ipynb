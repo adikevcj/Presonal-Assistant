{
 "cells": [
  {
   "cell_type": "code",
   "execution_count": 6,
   "metadata": {},
   "outputs": [],
   "source": [
    "import os\n",
    "from gtts import gTTS\n",
    "\n",
    "import os \n",
    "import smtplib\n",
    "import time\n",
    "import imaplib\n",
    "import email\n",
    "import traceback"
   ]
  },
  {
   "cell_type": "code",
   "execution_count": 2,
   "metadata": {},
   "outputs": [],
   "source": [
    "\n"
   ]
  },
  {
   "cell_type": "code",
   "execution_count": 10,
   "metadata": {},
   "outputs": [],
   "source": [
    "def playaudio(mytext,language):\n",
    "#    mytext = 'Welcome to geeksforgeeks!'\n",
    "      \n",
    "    # Language in which you want to convert\n",
    "#    language = 'en'\n",
    "    myobj = gTTS(text=mytext, lang=language, slow=False)\n",
    "      \n",
    "    \n",
    "    myobj.save(\"welcome.mp3\")\n",
    "      \n",
    "    # Playing the converted file\n",
    "    os.system(\"welcome.mp3\")"
   ]
  },
  {
   "cell_type": "code",
   "execution_count": 11,
   "metadata": {},
   "outputs": [],
   "source": [
    "def read_email_from_gmail():\n",
    "    try:\n",
    "        user = input(\"Enter usermail \")\n",
    "        password = input(\"Enter passwords\")\n",
    "        SMTP_SERVER = \"imap.gmail.com\" \n",
    "        SMTP_PORT = 993\n",
    "        mail = imaplib.IMAP4_SSL(SMTP_SERVER)\n",
    "        mail.login(user,password)\n",
    "        mail.select('inbox')\n",
    "\n",
    "        data = mail.search(None, 'ALL')\n",
    "        mail_ids = data[1]\n",
    "        id_list = mail_ids[0].split()   \n",
    "        first_email_id = int(id_list[0])\n",
    "        latest_email_id = int(id_list[-1])\n",
    "\n",
    "        for i in range(latest_email_id,first_email_id, -1):\n",
    "            data = mail.fetch(str(i), '(RFC822)' )\n",
    "            for response_part in data:\n",
    "                arr = response_part[0]\n",
    "                if isinstance(arr, tuple):\n",
    "                    msg = email.message_from_string(str(arr[1],'utf-8'))\n",
    "                    email_subject = msg['subject']\n",
    "                    email_from = msg['from']\n",
    "                    print('From : ' + email_from + '\\n')\n",
    "                    print('Subject : ' + email_subject + '\\n')\n",
    "\n",
    "    except Exception as e:\n",
    "        traceback.print_exc() \n",
    "        print(str(e))"
   ]
  },
  {
   "cell_type": "code",
   "execution_count": 9,
   "metadata": {},
   "outputs": [],
   "source": [
    "playaudio(\"let's go i am done here\",\"en\")"
   ]
  },
  {
   "cell_type": "code",
   "execution_count": 12,
   "metadata": {},
   "outputs": [
    {
     "name": "stdout",
     "output_type": "stream",
     "text": [
      "Enter usermail kevalkishan@gmail.com\n",
      "Enter passwordskevalkishan@123\n",
      "From : Team YourStory <info@yourstory.com>\n",
      "\n",
      "Subject : Invite: Exclusive live get-together with Shradha on YourStory Club\n",
      "\n",
      "From : happn <welcome@happnmail.com>\n",
      "\n",
      "Subject : The Map will direct you straight to that Crush, check it out\n",
      " =?UTF-8?B?8J+Xug==?=\n",
      "\n",
      "From : Google <no-reply@accounts.google.com>\n",
      "\n",
      "Subject : Critical security alert\n",
      "\n",
      "From : Google <no-reply@accounts.google.com>\n",
      "\n",
      "Subject : Critical security alert\n",
      "\n",
      "From : Google <no-reply@accounts.google.com>\n",
      "\n",
      "Subject : 2-Step Verification turned off\n",
      "\n",
      "From : Cracku <maruti@cracku.in>\n",
      "\n",
      "Subject : How to prepare for IBPS RRB PO 2021 Prelims? [Excellent Tips]\n",
      "\n",
      "From : \"Ash Parikh, Sr. Vice President of Portfolio Marketing, Informatica\"\n",
      " <informatica@reply.informatica-news.com>\n",
      "\n",
      "Subject : Register now for Informatica summer launch | Innovations for data\n",
      " warehouses and lakes\n",
      "\n",
      "From : Netflix <info@mailer.netflix.com>\n",
      "\n",
      "Subject : Enjoying It Chapter Two?\n",
      "\n",
      "From : =?UTF-8?B?VWRlbXk=?= <udemy@email.udemy.com>\n",
      "\n",
      "Subject : =?UTF-8?B?TmV3IERldmVsb3BtZW50IGNvdXJzZXMg4oCUIG9uIHNhbGUgbg==?=\n",
      "\t=?UTF-8?B?b3c=?=\n",
      "\n",
      "From : Tata Group <Naukri@profiles.naukriRMS.com>\n",
      "\n",
      "Subject : Software Developer,Software Engineer,tester walk in interview\n",
      "\n",
      "From : YourStory Buzz <info@yourstory.com>\n",
      "\n",
      "Subject : How to build a global brand with no funding\n",
      "\n",
      "From : \"Facebook\" <notification@facebookmail.com>\n",
      "\n",
      "Subject : =?UTF-8?B?8J+OgiBSaWEgU2FoYSwgTWFu?=\n",
      " =?UTF-8?B?bW9oYW4gQmhhcmR3YWog?=\n",
      " =?UTF-8?B?YW5kIE1hbmlzYSBBZ3Jh?=\n",
      " =?UTF-8?B?d2FsIGhhdmUgdGhlaXIg?=\n",
      " =?UTF-8?B?YmlydGhkYXlzIHRvZGF5?=\n",
      "\n",
      "'utf-8' codec can't decode byte 0xa0 in position 8783: invalid start byte\n"
     ]
    },
    {
     "name": "stderr",
     "output_type": "stream",
     "text": [
      "Traceback (most recent call last):\n",
      "  File \"<ipython-input-11-86a8c26f7cd6>\", line 22, in read_email_from_gmail\n",
      "    msg = email.message_from_string(str(arr[1],'utf-8'))\n",
      "UnicodeDecodeError: 'utf-8' codec can't decode byte 0xa0 in position 8783: invalid start byte\n"
     ]
    }
   ],
   "source": [
    "read_email_from_gmail()"
   ]
  },
  {
   "cell_type": "code",
   "execution_count": null,
   "metadata": {},
   "outputs": [],
   "source": []
  }
 ],
 "metadata": {
  "kernelspec": {
   "display_name": "Python 3",
   "language": "python",
   "name": "python3"
  },
  "language_info": {
   "codemirror_mode": {
    "name": "ipython",
    "version": 3
   },
   "file_extension": ".py",
   "mimetype": "text/x-python",
   "name": "python",
   "nbconvert_exporter": "python",
   "pygments_lexer": "ipython3",
   "version": "3.7.4"
  }
 },
 "nbformat": 4,
 "nbformat_minor": 2
}
